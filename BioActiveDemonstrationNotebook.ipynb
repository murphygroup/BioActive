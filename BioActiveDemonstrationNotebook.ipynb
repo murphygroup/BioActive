{
 "cells": [
  {
   "cell_type": "markdown",
   "metadata": {},
   "source": [
    "# Bioactive version 1.2 Demonstration\n",
    "\n",
    "This notebook runs illustrative campaigns using BioActive. All of these examples generate full-space simulated experimental data according to user-specified parameters and then simulate acquiring specific experimental results using the simulated data.  \n",
    "\n",
    "There are also campaigns not included in this notebook that perform real experiments by communicating with laboratory automation software and equipment.\n",
    "\n",
    "The campaigns can be run individually (they do not interact with each other) but the cell below must be run first.\n",
    "\n",
    "Each campaign will create a folder in the current working directory and store in it the HDF5 database for that campaign, a pickle file containing the completed campaign structure, and various visualizations of the campaign results.  The visualizations will be displayed in the notebook cell."
   ]
  },
  {
   "cell_type": "code",
   "execution_count": 1,
   "metadata": {},
   "outputs": [],
   "source": [
    "import CreateAndRunCampaign\n",
    "from visualize import visualize\n",
    "randomseed = 11"
   ]
  },
  {
   "cell_type": "markdown",
   "metadata": {},
   "source": [
    "## Index\n",
    "\n",
    "1. [MultiVars - Fitting Multivariate Regression](#MultiVars)\n",
    "1. [PoolBased - Classify Items from a Pool](#PoolBasedClassification)\n",
    "1. [Battleship - Categorical Clustering](#Battleship)"
   ]
  },
  {
   "cell_type": "markdown",
   "metadata": {},
   "source": [
    "## MultiVars\n",
    "This is the simplest BioActive campaign.  A discrete \"Experimental Space\" is specified as the number of independent variables and the number of discrete values that each can take on, and \"Experimental Data\" is generated at the outset from a linear model to fill that Experimental Space (with optional added noise).  Data for specific values of the independent variables are provided upon request to the active learner (in batches of specified size), and the learner seeks to estimate the regression function that generated the data.  "
   ]
  },
  {
   "cell_type": "code",
   "execution_count": 2,
   "metadata": {},
   "outputs": [
    {
     "name": "stdout",
     "output_type": "stream",
     "text": [
      "(49, 2)\n",
      "[('int', -50, 50)]\n",
      "<class 'createCampaignDiscreteRegression.main.<locals>.campaign.ESS'>\n",
      "dimarr\n",
      "[7, 7]\n",
      "Length of finalPredictions7\n",
      "Fetching data for round 0\n",
      "Fetching data for round 1\n",
      "Fetching data for round 2\n",
      "Stopping: Not enough points with confidence below 0.9 (4) to fill a batch (6)\n",
      "['<h3>MV2-6-0-6/simsDirectory_2021-09-12 11:35:12.763298/BioActive_LinReg(2iVar)Campaign_batchsize6.tif</h3><img src=\"MV2-6-0-6/simsDirectory_2021-09-12 11:35:12.763298/BioActive_LinReg(2iVar)Campaign_batchsize6.tif\">']\n"
     ]
    },
    {
     "data": {
      "text/html": [
       "<h3>MV2-6-0-6/simsDirectory_2021-09-12 11:35:12.763298/BioActive_LinReg(2iVar)Campaign_batchsize6.tif</h3><img src=\"MV2-6-0-6/simsDirectory_2021-09-12 11:35:12.763298/BioActive_LinReg(2iVar)Campaign_batchsize6.tif\">"
      ],
      "text/plain": [
       "<IPython.core.display.HTML object>"
      ]
     },
     "metadata": {},
     "output_type": "display_data"
    }
   ],
   "source": [
    "NumberOfIvars = 2\n",
    "NumberPerIvar = 6\n",
    "AddedNoise = 0\n",
    "ExperimentsPerRound = 6\n",
    "UseActiveLearning = True\n",
    "visualizations = CreateAndRunCampaign.CreateAndRunCampaign(\"MultiVar2\",\"createCampaignDiscreteRegression\",\n",
    "                                      [NumberOfIvars,NumberPerIvar,AddedNoise,ExperimentsPerRound,UseActiveLearning],\n",
    "                                      randomseed,\"MV2-6-0-6\",[\"*.tif\", \"*.mp4\"])\n",
    "visualize(visualizations)"
   ]
  },
  {
   "cell_type": "code",
   "execution_count": 3,
   "metadata": {},
   "outputs": [
    {
     "name": "stdout",
     "output_type": "stream",
     "text": [
      "(256, 4)\n",
      "[('int', -50, 50)]\n",
      "<class 'createCampaignDiscreteRegression.main.<locals>.campaign.ESS'>\n",
      "dimarr\n",
      "[4, 4, 4, 4]\n",
      "Length of finalPredictions4\n",
      "Fetching data for round 0\n",
      "Fetching data for round 1\n",
      "Fetching data for round 2\n",
      "Fetching data for round 3\n",
      "Fetching data for round 4\n",
      "Fetching data for round 5\n",
      "Fetching data for round 6\n",
      "Fetching data for round 7\n",
      "Fetching data for round 8\n",
      "Fetching data for round 9\n",
      "Fetching data for round 10\n",
      "Fetching data for round 11\n",
      "Fetching data for round 12\n",
      "Fetching data for round 13\n",
      "Fetching data for round 14\n",
      "Fetching data for round 15\n",
      "Fetching data for round 16\n",
      "Fetching data for round 17\n",
      "Fetching data for round 18\n",
      "Fetching data for round 19\n",
      "Fetching data for round 20\n",
      "Fetching data for round 21\n",
      "Fetching data for round 22\n",
      "Fetching data for round 23\n",
      "Fetching data for round 24\n",
      "Fetching data for round 25\n",
      "Fetching data for round 26\n",
      "Fetching data for round 27\n",
      "Stopping: Not enough points with confidence below 0.9 (4) to fill a batch (9)\n",
      "['<h3>MV4-3-20-9/simsDirectory_2021-09-12 11:35:15.911401/BioActive_LinReg(4iVar)Campaign_batchsize9.tif</h3><img src=\"MV4-3-20-9/simsDirectory_2021-09-12 11:35:15.911401/BioActive_LinReg(4iVar)Campaign_batchsize9.tif\">']\n"
     ]
    },
    {
     "data": {
      "text/html": [
       "<h3>MV4-3-20-9/simsDirectory_2021-09-12 11:35:15.911401/BioActive_LinReg(4iVar)Campaign_batchsize9.tif</h3><img src=\"MV4-3-20-9/simsDirectory_2021-09-12 11:35:15.911401/BioActive_LinReg(4iVar)Campaign_batchsize9.tif\">"
      ],
      "text/plain": [
       "<IPython.core.display.HTML object>"
      ]
     },
     "metadata": {},
     "output_type": "display_data"
    }
   ],
   "source": [
    "NumberOfIvars = 4\n",
    "NumberPerIvar = 3\n",
    "AddedNoise = 20\n",
    "ExperimentsPerRound = 9\n",
    "UseActiveLearning = True\n",
    "visualizations = CreateAndRunCampaign.CreateAndRunCampaign(\"MultiVar4\",\"createCampaignDiscreteRegression\",\n",
    "                                      [NumberOfIvars,NumberPerIvar,AddedNoise,ExperimentsPerRound,UseActiveLearning],\n",
    "                                      randomseed,\"MV4-3-20-9\",[\"*.tif\", \"*.mp4\"])\n",
    "visualize(visualizations)"
   ]
  },
  {
   "cell_type": "code",
   "execution_count": null,
   "metadata": {},
   "outputs": [
    {
     "name": "stdout",
     "output_type": "stream",
     "text": [
      "(6561, 8)\n",
      "[('int', -50, 50)]\n",
      "<class 'createCampaignDiscreteRegression.main.<locals>.campaign.ESS'>\n",
      "dimarr\n",
      "[3, 3, 3, 3, 3, 3, 3, 3]\n",
      "Length of finalPredictions3\n",
      "Fetching data for round 0\n",
      "Fetching data for round 1\n",
      "Fetching data for round 2\n",
      "Fetching data for round 3\n",
      "Fetching data for round 4\n",
      "Fetching data for round 5\n",
      "Fetching data for round 6\n"
     ]
    }
   ],
   "source": [
    "NumberOfIvars = 8\n",
    "NumberPerIvar = 2\n",
    "AddedNoise = 20\n",
    "ExperimentsPerRound = 200\n",
    "UseActiveLearning = True\n",
    "visualizations = CreateAndRunCampaign.CreateAndRunCampaign(\"MultiVar8\",\"createCampaignDiscreteRegression\",\n",
    "                                     [NumberOfIvars,NumberPerIvar,AddedNoise,ExperimentsPerRound,UseActiveLearning],\n",
    "                                      randomseed,\"MV8-2-20-200\",[\"*.tif\", \"*.mp4\"])\n",
    "visualize(visualizations)"
   ]
  },
  {
   "cell_type": "markdown",
   "metadata": {},
   "source": [
    "## PoolBasedClassification\n",
    "In Pool-Based Active Learning, the \"Experimental Space\" is specified as a single independent variable that is an index into a pool of samples, each described by one or more features.  An \"experiment\" consists of selecting a sample and asking for its label.  The goal is to learn to classify as many members of the pool correctly as possible while asking as few questions as possible."
   ]
  },
  {
   "cell_type": "code",
   "execution_count": null,
   "metadata": {},
   "outputs": [],
   "source": [
    "NumberOfPoints = 40\n",
    "NumberOfAvars = 1\n",
    "NumberOfClasses = 2\n",
    "NumberOfClustersPerClass = 1\n",
    "UseActiveLearning = True\n",
    "visualizations = CreateAndRunCampaign.CreateAndRunCampaign(\"PoolBased2-1\",\"createCampaignPoolBased\",\n",
    "                                [NumberOfPoints,NumberOfAvars,NumberOfClasses,NumberOfClustersPerClass,UseActiveLearning],\n",
    "                                randomseed,\"PB2-1\",[\"*.tif\", \"*.mp4\"])\n",
    "visualize(visualizations)"
   ]
  },
  {
   "cell_type": "code",
   "execution_count": null,
   "metadata": {},
   "outputs": [],
   "source": [
    "NumberOfPoints = 40\n",
    "NumberOfAvars = 1\n",
    "NumberOfClasses = 2\n",
    "NumberOfClustersPerClass = 1\n",
    "UseActiveLearning = False\n",
    "visualizations = CreateAndRunCampaign.CreateAndRunCampaign(\"PoolBased2-1Random\",\"createCampaignPoolBased\",\n",
    "                                [NumberOfPoints,NumberOfAvars,NumberOfClasses,NumberOfClustersPerClass,UseActiveLearning],\n",
    "                                randomseed,\"PB2-1Random\",[\"*.tif\", \"*.mp4\"])\n",
    "visualize(visualizations)"
   ]
  },
  {
   "cell_type": "code",
   "execution_count": null,
   "metadata": {
    "scrolled": true
   },
   "outputs": [],
   "source": [
    "NumberOfPoints = 40\n",
    "NumberOfAvars = 4\n",
    "NumberOfClasses = 2\n",
    "NumberOfClustersPerClass = 1\n",
    "UseActiveLearning = True\n",
    "visualizations = CreateAndRunCampaign.CreateAndRunCampaign(\"PoolBased2-4\",\"createCampaignPoolBased\",\n",
    "                                [NumberOfPoints,NumberOfAvars,NumberOfClasses,NumberOfClustersPerClass,UseActiveLearning],\n",
    "                                randomseed,\"PB2-4\",[\"*.tif\", \"*.mp4\"])\n",
    "visualize(visualizations)"
   ]
  },
  {
   "cell_type": "code",
   "execution_count": null,
   "metadata": {},
   "outputs": [],
   "source": [
    "NumberOfPoints = 40\n",
    "NumberOfAvars = 4\n",
    "NumberOfClasses = 2\n",
    "NumberOfClustersPerClass = 1\n",
    "UseActiveLearning = False\n",
    "visualizations = CreateAndRunCampaign.CreateAndRunCampaign(\"PoolBased2-4Random\",\"createCampaignPoolBased\",\n",
    "                                [NumberOfPoints,NumberOfAvars,NumberOfClasses,NumberOfClustersPerClass,UseActiveLearning],\n",
    "                                randomseed,\"PB2-4Random\",[\"*.tif\", \"*.mp4\"])\n",
    "visualize(visualizations)"
   ]
  },
  {
   "cell_type": "code",
   "execution_count": null,
   "metadata": {},
   "outputs": [],
   "source": [
    "NumberOfPoints = 100\n",
    "NumberOfAvars = 4\n",
    "NumberOfClasses = 2\n",
    "NumberOfClustersPerClass = 2\n",
    "UseActiveLearning = True\n",
    "visualizations = CreateAndRunCampaign.CreateAndRunCampaign(\"PoolBased2-4-2\",\"createCampaignPoolBased\",\n",
    "                                [NumberOfPoints,NumberOfAvars,NumberOfClasses,NumberOfClustersPerClass,UseActiveLearning],\n",
    "                                randomseed,\"PB2-4-2\",[\"*.tif\", \"*.mp4\"])\n",
    "visualize(visualizations)"
   ]
  },
  {
   "cell_type": "markdown",
   "metadata": {},
   "source": [
    "## Battleship\n",
    "In the Battleship Campaign, a board of hits and misses is initialized. Depending on user  preferences, this board can range from a board with clear structure in its data, to a completely  randomized board. The purpose of this campaign is to test the abilities of its associated  categorical modeller to find the clusters and patterns in its data and predict unseen values in  the board. In the campaign, there are four basic steps. First, the campaign checks if the stopping  criterion has been met. If the stopping criterion has not been met, then the campaign proceeds by  building a model from the existing data. Based on the confidence levels the modeler assigns to its  own predictions, the active learner then chooses which data to request next, prioritizing data for  which the modeller has low-confidence predictions. Then, the experiments requested by the active  learner are performed by the data acquisition function, and the data is stored in a database. The  cycle then repeats until the stopping criterion has been met, after which the campaign terminates.  More detailed documentation on each of these four functions can be found in the function library."
   ]
  },
  {
   "cell_type": "code",
   "execution_count": null,
   "metadata": {},
   "outputs": [],
   "source": [
    "NumberOfIvars = 2\n",
    "NumberPerIvar = 12\n",
    "NumberGroups = 3\n",
    "AddedNoise = 0\n",
    "ExperimentsPerRound = 4\n",
    "UseActiveLearning = True\n",
    "visualizations = CreateAndRunCampaign.CreateAndRunCampaign(\"CatModel2\",\"createCampaignCategoricalModeler\",\n",
    "                                [NumberOfIvars,NumberPerIvar,NumberGroups,AddedNoise,ExperimentsPerRound,UseActiveLearning],randomseed,\n",
    "                                \"CM2-12-3-0\",[\"*.tif\", \"*.mp4\"])\n",
    "visualize(visualizations)"
   ]
  },
  {
   "cell_type": "code",
   "execution_count": null,
   "metadata": {},
   "outputs": [],
   "source": [
    "NumberOfIvars = 2\n",
    "NumberPerIvar = 12\n",
    "NumberGroups = 3\n",
    "AddedNoise = 0\n",
    "ExperimentsPerRound = 4\n",
    "UseActiveLearning = False\n",
    "visualizations = CreateAndRunCampaign.CreateAndRunCampaign(\"CatModel2\",\"createCampaignCategoricalModeler\",\n",
    "                                [NumberOfIvars,NumberPerIvar,NumberGroups,AddedNoise,ExperimentsPerRound,UseActiveLearning],randomseed,\n",
    "                                \"CM2-12-3-0\",[\"*.tif\", \"*.mp4\"])\n",
    "visualize(visualizations)"
   ]
  }
 ],
 "metadata": {
  "kernelspec": {
   "display_name": "Python 3",
   "language": "python",
   "name": "python3"
  },
  "language_info": {
   "codemirror_mode": {
    "name": "ipython",
    "version": 3
   },
   "file_extension": ".py",
   "mimetype": "text/x-python",
   "name": "python",
   "nbconvert_exporter": "python",
   "pygments_lexer": "ipython3",
   "version": "3.7.4"
  }
 },
 "nbformat": 4,
 "nbformat_minor": 4
}
